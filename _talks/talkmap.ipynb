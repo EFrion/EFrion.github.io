{
 "cells": [
  {
   "cell_type": "markdown",
   "metadata": {},
   "source": [
    "# Leaflet cluster map of talk locations\n",
    "\n",
    "Run this from the _talks/ directory, which contains .md files of all your talks. This scrapes the location YAML field from each .md file, geolocates it with geopy/Nominatim, and uses the getorg library to output data, HTML, and Javascript for a standalone cluster map."
   ]
  },
  {
   "cell_type": "code",
   "execution_count": 1,
   "metadata": {},
   "outputs": [
    {
     "name": "stdout",
     "output_type": "stream",
     "text": [
      "IPywidgets and ipyleaflet support enabled.\n"
     ]
    }
   ],
   "source": [
    "import glob\n",
    "import getorg\n",
    "from geopy import Nominatim"
   ]
  },
  {
   "cell_type": "code",
   "execution_count": 2,
   "metadata": {},
   "outputs": [
    {
     "name": "stdout",
     "output_type": "stream",
     "text": [
      "['INFN.md', 'waseda.md', 'infinityZero.md', 'CfH2024.md', 'APC.md', 'UNB.md', 'QGMM24.md', 'ICG1.md', 'cosmo21.md', 'tampere.md', 'quantumChaos.md', 'I2PI.md', 'interDarkSector.md', 'UFES.md', 'ICAP.md', 'loops24.md', 'QMUL.md', 'UFR.md', 'ICG2.md', 'KASI.md', 'CEICO.md', 'LUPM.md', 'CAP.md', 'nazarbayev.md', 'beyondGR.md', 'UWO.md', 'ukcosmo.md', 'posterVQ.md']\n"
     ]
    }
   ],
   "source": [
    "g = glob.glob(\"*.md\")\n",
    "print(g)"
   ]
  },
  {
   "cell_type": "code",
   "execution_count": 3,
   "metadata": {},
   "outputs": [],
   "source": [
    "geocoder = Nominatim(user_agent='frion.emmanuel@gmail.com')\n",
    "location_dict = {}\n",
    "location = \"\"\n",
    "permalink = \"\"\n",
    "title = \"\""
   ]
  },
  {
   "cell_type": "code",
   "execution_count": 5,
   "metadata": {},
   "outputs": [
    {
     "name": "stdout",
     "output_type": "stream",
     "text": [
      "Firenze, Italy \n",
      " Firenze, Toscana, Italia\n",
      "Waseda, Japan \n",
      " 早稲田, 早稲田通り, 早稲田町, 馬場下町, 新宿区, 東京都, 160-8484, 日本\n",
      "Southampton, United Kingdom \n",
      " Southampton, England, United Kingdom\n",
      "London, Canada \n",
      " London, Southwestern Ontario, Ontario, Canada\n",
      "Paris, France \n",
      " Paris, Île-de-France, France métropolitaine, France\n",
      "Fredericton, Canada \n",
      " Fredericton, York County, New Brunswick / Nouveau-Brunswick, Canada\n",
      "Madrid, Spain \n",
      " Madrid, Comunidad de Madrid, España\n",
      "Portsmouth, United Kingdom \n",
      " Portsmouth, England, United Kingdom\n",
      "Urbana, Illinois, USA \n",
      " Urbana, Champaign County, Illinois, United States\n",
      "Tampere, Finland \n",
      " Tampere, Tampereen seutukunta, Pirkanmaa, Manner-Suomi, Suomi / Finland\n",
      "Luxembourg, Luxembourg \n",
      " Luxembourg, Canton Luxembourg, Lëtzebuerg\n",
      "Lyon, France \n",
      " Lyon, Métropole de Lyon, Rhône, Auvergne-Rhône-Alpes, France métropolitaine, France\n",
      "Santa Teresa-ES, Brazil \n",
      " Santa Teresa, Região Geográfica Imediata de Afonso Cláudio - Venda Nova do Imigrante - Santa Maria de Jetibá, Região Geográfica Intermediária de Vitória, Espírito Santo, Região Sudeste, Brasil\n",
      "Vitória-ES, Brazil \n",
      " Vitória, Região Geográfica Imediata de Vitória, Região Metropolitana da Grande Vitória, Região Geográfica Intermediária de Vitória, Espírito Santo, Região Sudeste, Brasil\n",
      "Paris, France \n",
      " Paris, Île-de-France, France métropolitaine, France\n",
      "Fort Lauderdale, USA \n",
      " Fort Lauderdale, Broward County, Florida, United States\n",
      "London, UK \n",
      " London, Greater London, England, United Kingdom\n",
      "Paris, France \n",
      " Paris, Île-de-France, France métropolitaine, France\n",
      "Portsmouth, United Kingdom \n",
      " Portsmouth, England, United Kingdom\n",
      "Seoul, South Korea \n",
      " 서울특별시, 대한민국\n",
      "Prague, Czech Republic \n",
      " Hlavní město Praha, Praha, Česko\n",
      "Montpellier, France \n",
      " Montpellier, Hérault, Occitanie, France métropolitaine, France\n",
      "London, Canada \n",
      " London, Southwestern Ontario, Ontario, Canada\n",
      "Astana, Kazakhstan \n",
      " Астана, Қазақстан\n",
      "Warsaw, Poland \n",
      " Warszawa, województwo mazowieckie, Polska\n",
      "London, Canada \n",
      " London, Southwestern Ontario, Ontario, Canada\n",
      "Nottingham, United Kingdom \n",
      " City of Nottingham, Nottinghamshire, East Midlands, England, United Kingdom\n",
      "Anchieta, ES, Brazil \n",
      " Anchieta, Região Geográfica Imediata de Vitória, Região Geográfica Intermediária de Vitória, Espírito Santo, Região Sudeste, Brasil\n"
     ]
    }
   ],
   "source": [
    "\n",
    "for file in g:\n",
    "    with open(file, 'r') as f:\n",
    "        lines = f.read()\n",
    "        if lines.find('location: \"') > 1:\n",
    "            loc_start = lines.find('location: \"') + 11\n",
    "            lines_trim = lines[loc_start:]\n",
    "            loc_end = lines_trim.find('\"')\n",
    "            location = lines_trim[:loc_end]\n",
    "                            \n",
    "           \n",
    "        location_dict[location] = geocoder.geocode(location)\n",
    "        print(location, \"\\n\", location_dict[location])\n"
   ]
  },
  {
   "cell_type": "code",
   "execution_count": 6,
   "metadata": {},
   "outputs": [
    {
     "data": {
      "text/plain": [
       "'Written map to ../talkmap/'"
      ]
     },
     "execution_count": 6,
     "metadata": {},
     "output_type": "execute_result"
    }
   ],
   "source": [
    "m = getorg.orgmap.create_map_obj()\n",
    "getorg.orgmap.output_html_cluster_map(location_dict, folder_name=\"../talkmap\", hashed_usernames=False)"
   ]
  },
  {
   "cell_type": "code",
   "execution_count": null,
   "metadata": {},
   "outputs": [],
   "source": []
  }
 ],
 "metadata": {
  "anaconda-cloud": {},
  "kernelspec": {
   "display_name": "venv",
   "language": "python",
   "name": "venv"
  },
  "language_info": {
   "codemirror_mode": {
    "name": "ipython",
    "version": 3
   },
   "file_extension": ".py",
   "mimetype": "text/x-python",
   "name": "python",
   "nbconvert_exporter": "python",
   "pygments_lexer": "ipython3",
   "version": "3.12.3"
  }
 },
 "nbformat": 4,
 "nbformat_minor": 1
}
